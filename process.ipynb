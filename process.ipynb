{
  "nbformat": 4,
  "nbformat_minor": 0,
  "metadata": {
    "colab": {
      "name": "process.ipynb",
      "provenance": [],
      "private_outputs": true,
      "collapsed_sections": [],
      "toc_visible": true,
      "machine_shape": "hm",
      "mount_file_id": "1Nfd_X2Qs4_93BSqM_xdhHvJeojFs1dlz",
      "authorship_tag": "ABX9TyPT+JfgBJ+hzFp7X7SgCs9M",
      "include_colab_link": true
    },
    "kernelspec": {
      "name": "python3",
      "display_name": "Python 3"
    },
    "accelerator": "GPU"
  },
  "cells": [
    {
      "cell_type": "markdown",
      "metadata": {
        "id": "view-in-github",
        "colab_type": "text"
      },
      "source": [
        "<a href=\"https://colab.research.google.com/github/richmondvan/melanoma-detection/blob/master/process.ipynb\" target=\"_parent\"><img src=\"https://colab.research.google.com/assets/colab-badge.svg\" alt=\"Open In Colab\"/></a>"
      ]
    },
    {
      "cell_type": "markdown",
      "metadata": {
        "id": "ipE0MVc9i5Yy",
        "colab_type": "text"
      },
      "source": [
        "# SETUP"
      ]
    },
    {
      "cell_type": "markdown",
      "metadata": {
        "id": "t-qHkshQil-y",
        "colab_type": "text"
      },
      "source": [
        "**This cell is mandatory!**\n",
        "\n",
        "- Imports modules\n",
        "\n",
        "- Mounts Google Drive\n",
        "\n",
        "- Sets up constants"
      ]
    },
    {
      "cell_type": "code",
      "metadata": {
        "id": "YkoVK_mvdHpM",
        "colab_type": "code",
        "colab": {}
      },
      "source": [
        "# Must be run every time!\n",
        "import numpy as np\n",
        "import tensorflow as tf #nightly\n",
        "import pathlib\n",
        "from tensorflow.keras import models, layers, losses\n",
        "import math\n",
        "from google.colab import drive \n",
        "import os\n",
        "\n",
        "drive.mount('/content/gdrive') \n",
        "\n",
        "DATASET_FILEPATH = \"/content/gdrive/My Drive/Dataset/dataset.zip\"\n",
        "DIRECTORY_PATH = \"/content/gdrive/My Drive/Dataset/\""
      ],
      "execution_count": 0,
      "outputs": []
    },
    {
      "cell_type": "markdown",
      "metadata": {
        "id": "IWt3c6tsiy1t",
        "colab_type": "text"
      },
      "source": [
        "One-time:\n",
        "Download my data from ISIC"
      ]
    },
    {
      "cell_type": "code",
      "metadata": {
        "id": "mvZV2S_bKpOf",
        "colab_type": "code",
        "colab": {}
      },
      "source": [
        "import urllib\n",
        "\n",
        "urllib.request.urlretrieve(\"https://isic-archive.com/api/v1/image/download?include=all&filter={%22operator%22:%22and%22,%22operands%22:[{%22operator%22:%22in%22,%22operands%22:[{%22identifier%22:%22meta.datasetId%22,%22type%22:%22objectid%22},[%225a2ecc5e1165975c945942a4%22,%225a2ecc5e1165975c945942a2%22,%225a2ecc5d1165975c94594292%22,%225a2ecc5d1165975c9459428e%22,%225a2ecc5d1165975c94594284%22,%225aaf6f2a116597691367292e%22,%225a2ecc5d1165975c9459427e%22,%225a2ecc5d1165975c9459428a%22]]},{%22operator%22:%22and%22,%22operands%22:[{%22operator%22:%22in%22,%22operands%22:[{%22identifier%22:%22meta.clinical.benign_malignant%22,%22type%22:%22string%22},[%22benign%22,%22malignant%22]]},{%22operator%22:%22in%22,%22operands%22:[{%22identifier%22:%22meta.tags%22,%22type%22:%22string%22},[%22Challenge%202019:%20Training%22]]}]}]}\", DATASET_FILEPATH)"
      ],
      "execution_count": 0,
      "outputs": []
    },
    {
      "cell_type": "markdown",
      "metadata": {
        "id": "NK6J7W_5jEck",
        "colab_type": "text"
      },
      "source": [
        "One-time: Extract data from archive"
      ]
    },
    {
      "cell_type": "code",
      "metadata": {
        "id": "fBe07roke8JN",
        "colab_type": "code",
        "colab": {}
      },
      "source": [
        "from zipfile import ZipFile\n",
        "\n",
        "with ZipFile(DATASET_FILEPATH, 'r') as zipObj:\n",
        "   # Extract all the contents of zip file in current directory\n",
        "   zipObj.extractall(DIRECTORY_PATH)"
      ],
      "execution_count": 0,
      "outputs": []
    },
    {
      "cell_type": "markdown",
      "metadata": {
        "id": "eAnIdjEsk0iI",
        "colab_type": "text"
      },
      "source": [
        "# More Setup"
      ]
    },
    {
      "cell_type": "markdown",
      "metadata": {
        "id": "cBGQ4BA-Svk1",
        "colab_type": "text"
      },
      "source": [
        "One-time: Converts CSV file into a dictionary for classification lookups"
      ]
    },
    {
      "cell_type": "code",
      "metadata": {
        "id": "6YCPafYCHZB3",
        "colab_type": "code",
        "colab": {}
      },
      "source": [
        "import csv\n",
        "\n",
        "METADATA_PATH = DIRECTORY_PATH + \"ISIC-images/metadata.csv\"\n",
        "\n",
        "with open(METADATA_PATH, mode='r') as infile:\n",
        "    reader = csv.DictReader(infile)\n",
        "    GROUND_TRUTH_DICT = {row['name'] : row['meta.clinical.benign_malignant'] for row in reader} \n",
        "\n",
        "print(GROUND_TRUTH_DICT)"
      ],
      "execution_count": 0,
      "outputs": []
    },
    {
      "cell_type": "markdown",
      "metadata": {
        "id": "SJT5hhYfS0Fv",
        "colab_type": "text"
      },
      "source": [
        "One-time: Sort images into proper directories"
      ]
    },
    {
      "cell_type": "code",
      "metadata": {
        "id": "tVqxsRGKKhWw",
        "colab_type": "code",
        "colab": {}
      },
      "source": [
        "import shutil\n",
        "import os\n",
        "\n",
        "IMAGE_PATH = pathlib.Path(DIRECTORY_PATH + \"ISIC-images/\")\n",
        "BENIGN_PATH = \"/content/gdrive/My Drive/Dataset/DatasetSorted/benign/\"\n",
        "MALIGNANT_PATH = \"/content/gdrive/My Drive/Dataset/DatasetSorted/malignant/\"\n",
        "\n",
        "pathlist = pathlib.Path(IMAGE_PATH).glob(\"*/*.jpg\")\n",
        "for path in pathlist:\n",
        "    fileName = path.name\n",
        "    key = GROUND_TRUTH_DICT[path.name.strip(\".jpg\")]\n",
        "    if key == \"benign\":\n",
        "        pastePath = BENIGN_PATH + path.name\n",
        "    elif key == \"malignant\":\n",
        "        pastePath = MALIGNANT_PATH + path.name\n",
        "    else:\n",
        "        print(\"error\")\n",
        "    \n",
        "    copyPath = str(path)\n",
        "\n",
        "    shutil.move(copyPath, pastePath)"
      ],
      "execution_count": 0,
      "outputs": []
    },
    {
      "cell_type": "markdown",
      "metadata": {
        "id": "ULJEFZ4q-AO3",
        "colab_type": "text"
      },
      "source": [
        "Sort images into training, validation, test sets\n"
      ]
    },
    {
      "cell_type": "code",
      "metadata": {
        "id": "GwjzLF-j6YGs",
        "colab_type": "code",
        "colab": {}
      },
      "source": [
        "import shutil\n",
        "import os\n",
        "from random import shuffle\n",
        "\n",
        "BENIGN_PATH = \"/content/gdrive/My Drive/Dataset/DatasetSorted/benign/\"\n",
        "MALIGNANT_PATH = \"/content/gdrive/My Drive/Dataset/DatasetSorted/malignant/\"\n",
        "\n",
        "TRAINING_PATH = \"/content/gdrive/My Drive/Dataset/DatasetSorted/training/\"\n",
        "VALIDATION_PATH = \"/content/gdrive/My Drive/Dataset/DatasetSorted/validation/\"\n",
        "TEST_PATH = \"/content/gdrive/My Drive/Dataset/DatasetSorted/test/\"\n",
        "\n",
        "benignPathList = pathlib.Path(BENIGN_PATH).glob(\"*.jpg\")\n",
        "\n",
        "counter = 0\n",
        "for path in benignPathList:\n",
        "    name = path.name\n",
        "    copyPath = str(path)\n",
        "    counter += 1\n",
        "    key = counter % 5\n",
        "    print(key)\n",
        "    if key == 3:\n",
        "        pastePath = VALIDATION_PATH + \"benign/\" + name\n",
        "    elif key == 4:\n",
        "        pastePath = TEST_PATH + \"benign/\" + name\n",
        "    else:\n",
        "        pastePath = TRAINING_PATH + \"benign/\" + name\n",
        "    \n",
        "    shutil.move(copyPath, pastePath)\n",
        "\n",
        "malignantPathList = pathlib.Path(MALIGNANT_PATH).glob(\"*.jpg\")\n",
        "\n",
        "counter = 0\n",
        "for path in malignantPathList:\n",
        "    name = path.name\n",
        "    copyPath = str(path)\n",
        "    counter += 1\n",
        "    key = counter % 5\n",
        "    print(key)\n",
        "    if key == 3:\n",
        "        pastePath = VALIDATION_PATH + \"malignant/\" + name\n",
        "    elif key == 4:\n",
        "        pastePath = TEST_PATH + \"malignant/\" + name\n",
        "    else:\n",
        "        pastePath = TRAINING_PATH + \"malignant/\" + name\n",
        "    \n",
        "    shutil.move(copyPath, pastePath)\n"
      ],
      "execution_count": 0,
      "outputs": []
    },
    {
      "cell_type": "markdown",
      "metadata": {
        "id": "z8ZTx7FrBAc5",
        "colab_type": "text"
      },
      "source": [
        "Reformats image"
      ]
    },
    {
      "cell_type": "code",
      "metadata": {
        "id": "fJ9EAYoBMOrM",
        "colab_type": "code",
        "colab": {}
      },
      "source": [
        "def Reformat_Image(ImageFilePath):\n",
        "\n",
        "    from PIL import Image\n",
        "    image = Image.open(ImageFilePath, 'r')\n",
        "    image_size = image.size\n",
        "    width = image_size[0]\n",
        "    height = image_size[1]\n",
        "\n",
        "    if(width != height):\n",
        "        bigside = width if width > height else height\n",
        "\n",
        "        background = Image.new('RGB', (bigside, bigside), (255, 255, 255))\n",
        "        offset = (int(round(((bigside - width) / 2), 0)), int(round(((bigside - height) / 2),0)))\n",
        "\n",
        "        background.paste(image, offset)\n",
        "        background.save(ImageFilePath)\n",
        "        print(\"Image has been resized !\")\n",
        "\n",
        "    else:\n",
        "        print(\"Image is already a square, it has not been resized !\")"
      ],
      "execution_count": 0,
      "outputs": []
    },
    {
      "cell_type": "code",
      "metadata": {
        "id": "dXSdsQZSNIqk",
        "colab_type": "code",
        "colab": {}
      },
      "source": [
        "IMAGE_PATH = pathlib.Path(\"/content/gdrive/My Drive/Dataset/DatasetSorted/\")\n",
        "\n",
        "pathList = pathlib.Path(IMAGE_PATH).glob(\"*/*/*.jpg\")\n",
        "\n",
        "print(pathList)\n",
        "counter = 0\n",
        "for path in pathList:\n",
        "    counter += 1\n",
        "    Reformat_Image(path)\n",
        "    print(counter)"
      ],
      "execution_count": 0,
      "outputs": []
    },
    {
      "cell_type": "code",
      "metadata": {
        "id": "5rUZ9K-568Sf",
        "colab_type": "code",
        "colab": {}
      },
      "source": [
        "import shutil\n",
        "import os\n",
        "from random import shuffle\n",
        "\n",
        "TRAINING_PATH = \"/content/gdrive/My Drive/Dataset/DatasetSorted/training/\"\n",
        "trainBenignPath = TRAINING_PATH + \"benign/\"\n",
        "trainMalignantPath = TRAINING_PATH + \"malignant/\"\n",
        "\n",
        "VALIDATION_PATH = \"/content/gdrive/My Drive/Dataset/DatasetSorted/validation/\"\n",
        "validBenignPath = VALIDATION_PATH + \"benign/\"\n",
        "validMalignantPath = VALIDATION_PATH + \"malignant/\"\n",
        "\n",
        "TEST_PATH = \"/content/gdrive/My Drive/Dataset/DatasetSorted/test/\"\n",
        "testBenignPath = TEST_PATH + \"benign/\"\n",
        "testMalignantPath = TEST_PATH + \"malignant/\"\n",
        "\n",
        "counter = 0\n",
        "for path in pathlib.Path(validBenignPath).glob(\"*.jpg\"):\n",
        "    name = path.name\n",
        "    copyPath = str(path)\n",
        "    counter += 1\n",
        "    key = counter % 2\n",
        "    if key == 0:\n",
        "        pastePath = trainBenignPath + name\n",
        "        shutil.move(copyPath, pastePath)\n",
        "counter = 0\n",
        "for path in pathlib.Path(testBenignPath).glob(\"*.jpg\"):\n",
        "    name = path.name\n",
        "    copyPath = str(path)\n",
        "    counter += 1\n",
        "    key = counter % 2\n",
        "    if key == 0:\n",
        "        pastePath = trainBenignPath + name\n",
        "        shutil.move(copyPath, pastePath)\n",
        "counter = 0\n",
        "for path in pathlib.Path(validMalignantPath).glob(\"*.jpg\"):\n",
        "    name = path.name\n",
        "    copyPath = str(path)\n",
        "    counter += 1\n",
        "    key = counter % 2\n",
        "    if key == 0:\n",
        "        pastePath = trainMalignantPath + name\n",
        "        shutil.move(copyPath, pastePath)\n",
        "counter = 0\n",
        "for path in pathlib.Path(testMalignantPath).glob(\"*.jpg\"):\n",
        "    name = path.name\n",
        "    copyPath = str(path)\n",
        "    counter += 1\n",
        "    key = counter % 2\n",
        "    if key == 0:\n",
        "        pastePath = trainMalignantPath + name\n",
        "        shutil.move(copyPath, pastePath)\n"
      ],
      "execution_count": 0,
      "outputs": []
    }
  ]
}