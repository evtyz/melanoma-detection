{
  "nbformat": 4,
  "nbformat_minor": 0,
  "metadata": {
    "colab": {
      "name": "process.ipynb",
      "provenance": [],
      "collapsed_sections": [],
      "toc_visible": true,
      "mount_file_id": "1Nfd_X2Qs4_93BSqM_xdhHvJeojFs1dlz",
      "authorship_tag": "ABX9TyNYqb6gwzqNp+Gl/JzdzLu0",
      "include_colab_link": true
    },
    "kernelspec": {
      "name": "python3",
      "display_name": "Python 3"
    }
  },
  "cells": [
    {
      "cell_type": "markdown",
      "metadata": {
        "id": "view-in-github",
        "colab_type": "text"
      },
      "source": [
        "<a href=\"https://colab.research.google.com/github/richmondvan/melanoma-detection/blob/master/process.ipynb\" target=\"_parent\"><img src=\"https://colab.research.google.com/assets/colab-badge.svg\" alt=\"Open In Colab\"/></a>"
      ]
    },
    {
      "cell_type": "markdown",
      "metadata": {
        "id": "ipE0MVc9i5Yy",
        "colab_type": "text"
      },
      "source": [
        "# SETUP"
      ]
    },
    {
      "cell_type": "markdown",
      "metadata": {
        "id": "t-qHkshQil-y",
        "colab_type": "text"
      },
      "source": [
        "**This cell is mandatory!**\n",
        "\n",
        "- Imports modules\n",
        "\n",
        "- Mounts Google Drive\n",
        "\n",
        "- Sets up constants"
      ]
    },
    {
      "cell_type": "code",
      "metadata": {
        "id": "YkoVK_mvdHpM",
        "colab_type": "code",
        "colab": {}
      },
      "source": [
        "# Must be run every time!\n",
        "import numpy as np\n",
        "import tensorflow as tf\n",
        "\n",
        "from google.colab import drive \n",
        "drive.mount('/content/gdrive') \n",
        "\n",
        "DATASET_FILEPATH = \"/content/gdrive/My Drive/Dataset/dataset.zip\"\n",
        "DIRECTORY_PATH = \"/content/gdrive/My Drive/Dataset/\""
      ],
      "execution_count": 0,
      "outputs": []
    },
    {
      "cell_type": "markdown",
      "metadata": {
        "id": "IWt3c6tsiy1t",
        "colab_type": "text"
      },
      "source": [
        "One-time:\n",
        "Download my data from ISIC"
      ]
    },
    {
      "cell_type": "code",
      "metadata": {
        "id": "mvZV2S_bKpOf",
        "colab_type": "code",
        "colab": {}
      },
      "source": [
        "import urllib\n",
        "\n",
        "urllib.request.urlretrieve(\"https://isic-archive.com/api/v1/image/download?include=all&filter={%22operator%22:%22and%22,%22operands%22:[{%22operator%22:%22in%22,%22operands%22:[{%22identifier%22:%22meta.datasetId%22,%22type%22:%22objectid%22},[%225a2ecc5e1165975c945942a4%22,%225a2ecc5e1165975c945942a2%22,%225a2ecc5d1165975c94594292%22,%225a2ecc5d1165975c9459428e%22,%225a2ecc5d1165975c94594284%22,%225aaf6f2a116597691367292e%22,%225a2ecc5d1165975c9459427e%22,%225a2ecc5d1165975c9459428a%22]]},{%22operator%22:%22and%22,%22operands%22:[{%22operator%22:%22in%22,%22operands%22:[{%22identifier%22:%22meta.clinical.benign_malignant%22,%22type%22:%22string%22},[%22benign%22,%22malignant%22]]},{%22operator%22:%22in%22,%22operands%22:[{%22identifier%22:%22meta.tags%22,%22type%22:%22string%22},[%22Challenge%202019:%20Training%22]]}]}]}\", DATASET_FILEPATH)"
      ],
      "execution_count": 0,
      "outputs": []
    },
    {
      "cell_type": "markdown",
      "metadata": {
        "id": "NK6J7W_5jEck",
        "colab_type": "text"
      },
      "source": [
        "One-time: Extract data from archive"
      ]
    },
    {
      "cell_type": "code",
      "metadata": {
        "id": "fBe07roke8JN",
        "colab_type": "code",
        "colab": {}
      },
      "source": [
        "from zipfile import ZipFile\n",
        "\n",
        "with ZipFile(DATASET_FILEPATH, 'r') as zipObj:\n",
        "   # Extract all the contents of zip file in current directory\n",
        "   zipObj.extractall(DIRECTORY_PATH)"
      ],
      "execution_count": 0,
      "outputs": []
    },
    {
      "cell_type": "markdown",
      "metadata": {
        "id": "eAnIdjEsk0iI",
        "colab_type": "text"
      },
      "source": [
        "# More Setup"
      ]
    },
    {
      "cell_type": "markdown",
      "metadata": {
        "id": "lWMRlnhtl6Nn",
        "colab_type": "text"
      },
      "source": [
        "Sets up ground truth dataset "
      ]
    },
    {
      "cell_type": "code",
      "metadata": {
        "id": "U0CMor8Fk2Wh",
        "colab_type": "code",
        "colab": {}
      },
      "source": [
        "# Must be run every time!\n",
        "\n",
        "import numpy as np\n",
        "\n",
        "METADATA_PATH = DIRECTORY_PATH + \"ISIC-images/metadata.csv\"\n"
      ],
      "execution_count": 0,
      "outputs": []
    },
    {
      "cell_type": "markdown",
      "metadata": {
        "id": "cBGQ4BA-Svk1",
        "colab_type": "text"
      },
      "source": [
        "Converts CSV file into a dictionary for classification lookups"
      ]
    },
    {
      "cell_type": "code",
      "metadata": {
        "id": "6YCPafYCHZB3",
        "colab_type": "code",
        "colab": {}
      },
      "source": [
        "import csv\n",
        "\n",
        "with open(METADATA_PATH, mode='r') as infile:\n",
        "    reader = csv.DictReader(infile)\n",
        "    GROUND_TRUTH_DICT = {row['name'] : row['meta.clinical.benign_malignant'] for row in reader} \n",
        "\n",
        "print(GROUND_TRUTH_DICT)"
      ],
      "execution_count": 0,
      "outputs": []
    },
    {
      "cell_type": "markdown",
      "metadata": {
        "id": "SJT5hhYfS0Fv",
        "colab_type": "text"
      },
      "source": [
        "Sort images into propert directories"
      ]
    },
    {
      "cell_type": "code",
      "metadata": {
        "id": "tVqxsRGKKhWw",
        "colab_type": "code",
        "colab": {}
      },
      "source": [
        "import shutil\n",
        "import os\n",
        "import pathlib\n",
        "\n",
        "IMAGE_PATH = pathlib.Path(DIRECTORY_PATH + \"ISIC-images/\")\n",
        "BENIGN_PATH = \"/content/gdrive/My Drive/Dataset/DatasetSorted/benign/\"\n",
        "MALIGNANT_PATH = \"/content/gdrive/My Drive/Dataset/DatasetSorted/malignant/\"\n",
        "\n",
        "pathlist = pathlib.Path(IMAGE_PATH).glob(\"*/*.jpg\")\n",
        "for path in pathlist:\n",
        "    fileName = path.name\n",
        "    key = GROUND_TRUTH_DICT[path.name.strip(\".jpg\")]\n",
        "    if key == \"benign\":\n",
        "        pastePath = BENIGN_PATH + path.name\n",
        "    elif key == \"malignant\":\n",
        "        pastePath = MALIGNANT_PATH + path.name\n",
        "    else:\n",
        "        print(\"error\")\n",
        "    \n",
        "    copyPath = str(path)\n",
        "\n",
        "    shutil.move(copyPath, pastePath)"
      ],
      "execution_count": 0,
      "outputs": []
    },
    {
      "cell_type": "markdown",
      "metadata": {
        "id": "56UAJbSoTAJH",
        "colab_type": "text"
      },
      "source": [
        "**Mandatory!**\n",
        "\n",
        "Set up some constants before we load the dataset"
      ]
    },
    {
      "cell_type": "code",
      "metadata": {
        "id": "cDpOfq1rqG0C",
        "colab_type": "code",
        "colab": {}
      },
      "source": [
        "image_generator = tf.keras.preprocessing.image.ImageDataGenerator(rescale = 1./255)\n",
        "\n",
        "\n",
        "IMAGE_PATH = pathlib.Path(\"/content/gdrive/My Drive/Dataset/DatasetSorted/\")\n",
        "IMAGE_COUNT = len(list(IMAGE_PATH.glob(\"*/*.jpg\")))\n",
        "BATCH_SIZE = 32\n",
        "IMG_HEIGHT = 224\n",
        "IMG_WIDTH = 224\n",
        "STEPS_PER_EPOCH = np.ceil(IMAGE_COUNT / BATCH_SIZE)\n",
        "CLASS_NAMES = np.array([\"benign\", \"malignant\"])\n",
        "\n",
        "train_data_gen = image_generator.flow_from_directory(directory=str(IMAGE_PATH), batch_size=BATCH_SIZE, shuffle=True, target_size=(IMG_HEIGHT, IMG_WIDTH), class_mode=\"categorical\")\n",
        "print(train_data_gen.class_indices)"
      ],
      "execution_count": 0,
      "outputs": []
    }
  ]
}