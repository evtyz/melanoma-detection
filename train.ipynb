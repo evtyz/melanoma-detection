{
  "nbformat": 4,
  "nbformat_minor": 0,
  "metadata": {
    "colab": {
      "name": "train.ipynb",
      "provenance": [],
      "private_outputs": true,
      "collapsed_sections": [],
      "toc_visible": true,
      "authorship_tag": "ABX9TyPto68CVnb+vqD9Kb1MOwOx",
      "include_colab_link": true
    },
    "kernelspec": {
      "name": "python3",
      "display_name": "Python 3"
    }
  },
  "cells": [
    {
      "cell_type": "markdown",
      "metadata": {
        "id": "view-in-github",
        "colab_type": "text"
      },
      "source": [
        "<a href=\"https://colab.research.google.com/github/richmondvan/melanoma-detection/blob/master/train.ipynb\" target=\"_parent\"><img src=\"https://colab.research.google.com/assets/colab-badge.svg\" alt=\"Open In Colab\"/></a>"
      ]
    },
    {
      "cell_type": "markdown",
      "metadata": {
        "id": "3GBnQEFeOgSK",
        "colab_type": "text"
      },
      "source": [
        "# Training"
      ]
    },
    {
      "cell_type": "markdown",
      "metadata": {
        "id": "oZUfw13gOyhU",
        "colab_type": "text"
      },
      "source": [
        "Import all modules and mount Google Drive"
      ]
    },
    {
      "cell_type": "code",
      "metadata": {
        "id": "7kAzzn_kNT3v",
        "colab_type": "code",
        "colab": {}
      },
      "source": [
        "# Must be run every time!\n",
        "\n",
        "from pathlib import Path # Manage file paths\n",
        "import pickle # Storing epoch number\n",
        "from google.colab import drive # For mounting GDrive\n",
        "import matplotlib.pyplot as plt\n",
        "\n",
        "from tensorflow.keras import metrics, regularizers\n",
        "from tensorflow.keras.optimizers import Adam\n",
        "from tensorflow.keras.losses import BinaryCrossentropy\n",
        "from tensorflow.keras.applications import MobileNetV2\n",
        "from tensorflow.keras.models import Sequential\n",
        "from tensorflow.keras.layers import Dense, Dropout, GlobalAveragePooling2D\n",
        "from tensorflow.keras.preprocessing.image import ImageDataGenerator\n",
        "from tensorflow.keras.callbacks import CSVLogger\n",
        "\n",
        "# Mount Google Drive\n",
        "drive.mount('/content/gdrive')\n",
        "\n",
        "!git clone https://github.com/richmondvan/isic-image-database.git"
      ],
      "execution_count": null,
      "outputs": []
    },
    {
      "cell_type": "markdown",
      "metadata": {
        "id": "NzfDku_bO18a",
        "colab_type": "text"
      },
      "source": [
        "Prepare datasets"
      ]
    },
    {
      "cell_type": "code",
      "metadata": {
        "id": "kKqBjcCuNjMG",
        "colab_type": "code",
        "colab": {}
      },
      "source": [
        "# Setting up file paths\n",
        "PATH = \"/content/isic-image-database/\"\n",
        "\n",
        "TRAINING_PATH = Path(PATH + \"training/\")\n",
        "VALIDATION_PATH = Path(PATH + \"validation/\")\n",
        "TEST_PATH = Path(PATH + \"test/\")\n",
        "\n",
        "# Create image generators\n",
        "train_image_generator = ImageDataGenerator(\n",
        "    rescale=1./255,\n",
        "    brightness_range=(0.90, 1.10),\n",
        "    zoom_range=[0.9, 1],\n",
        "    horizontal_flip=True,\n",
        "    vertical_flip=True) # Generator for our training data\n",
        "\n",
        "validation_image_generator = ImageDataGenerator(rescale=1./255) # Generator for our validation data\n",
        "\n",
        "# Some constants\n",
        "batch_size = 32\n",
        "IMG_HEIGHT = 224\n",
        "IMG_WIDTH = 224\n",
        "TRAIN_LEN = len(list(TRAINING_PATH.glob(\"*/*.jpg\")))\n",
        "VALID_LEN = len(list(VALIDATION_PATH.glob(\"*/*.jpg\")))\n",
        "CLASS_NAMES = ['benign', 'malignant']\n",
        "\n",
        "# Get generated datasets\n",
        "train_data_gen = train_image_generator.flow_from_directory(batch_size=batch_size,\n",
        "                                                           directory=TRAINING_PATH,\n",
        "                                                           shuffle=True,\n",
        "                                                           target_size=(IMG_HEIGHT, IMG_WIDTH),\n",
        "                                                           class_mode='binary',\n",
        "                                                           classes=CLASS_NAMES)\n",
        "\n",
        "val_data_gen = validation_image_generator.flow_from_directory(batch_size=batch_size,\n",
        "                                                              directory=VALIDATION_PATH,\n",
        "                                                              shuffle=True,\n",
        "                                                              target_size=(IMG_HEIGHT, IMG_WIDTH),\n",
        "                                                              class_mode='binary',\n",
        "                                                              classes=CLASS_NAMES)"
      ],
      "execution_count": null,
      "outputs": []
    },
    {
      "cell_type": "markdown",
      "metadata": {
        "id": "tPIAgll7WrNF",
        "colab_type": "text"
      },
      "source": [
        "Show images"
      ]
    },
    {
      "cell_type": "code",
      "metadata": {
        "id": "iKy36frtVTTi",
        "colab_type": "code",
        "colab": {}
      },
      "source": [
        "image_batch, label_batch = next(train_data_gen)\n",
        "\n",
        "def show_batch(image_batch, label_batch):\n",
        "  plt.figure(figsize=(10,10))\n",
        "  for n in range(25):\n",
        "      ax = plt.subplot(5,5,n+1)\n",
        "      plt.imshow(image_batch[n])\n",
        "      plt.title(CLASS_NAMES[label_batch[n]==1][0].title())\n",
        "      plt.axis('off')\n",
        "\n",
        "show_batch(image_batch, label_batch)"
      ],
      "execution_count": null,
      "outputs": []
    },
    {
      "cell_type": "markdown",
      "metadata": {
        "id": "U--YerHEO7gD",
        "colab_type": "text"
      },
      "source": [
        "Prepare metrics and weights"
      ]
    },
    {
      "cell_type": "code",
      "metadata": {
        "id": "X9iRPtTtNmHu",
        "colab_type": "code",
        "colab": {}
      },
      "source": [
        "# Get some training weights to offset class imbalance\n",
        "numBenign = len(list(TRAINING_PATH.glob(\"benign/*.jpg\")))\n",
        "numMalignant = len(list(TRAINING_PATH.glob(\"malignant/*.jpg\")))\n",
        "total = numBenign + numMalignant\n",
        "\n",
        "additionalWeightMultiplier = 1.0\n",
        "\n",
        "weight_for_0 = (1 / numBenign) * (total) / 2.0 \n",
        "weight_for_1 = (additionalWeightMultiplier / numMalignant) * (total) / 2.0\n",
        "class_weight = {0: weight_for_0, 1: weight_for_1}\n",
        "\n",
        "print(class_weight)\n",
        "\n",
        "# Metrics we will be using to assess accuracy\n",
        "METRICS = [\n",
        "      metrics.BinaryAccuracy(name='acc'),\n",
        "      metrics.TruePositives(name='tp'),\n",
        "      metrics.FalsePositives(name='fp'),\n",
        "      metrics.TrueNegatives(name='tn'),\n",
        "      metrics.FalseNegatives(name='fn'), \n",
        "      metrics.Precision(name='pre'),\n",
        "      metrics.Recall(name='rec'),\n",
        "      metrics.AUC(name='auc'),\n",
        "]"
      ],
      "execution_count": null,
      "outputs": []
    },
    {
      "cell_type": "markdown",
      "metadata": {
        "id": "VnmZ-5AzPZxU",
        "colab_type": "text"
      },
      "source": [
        "Prepare model"
      ]
    },
    {
      "cell_type": "code",
      "metadata": {
        "id": "hFVGzhJeNrat",
        "colab_type": "code",
        "colab": {}
      },
      "source": [
        "# Hyperparameters\n",
        "NEURONS_PER_LAYER = 512\n",
        "REG_LAMBDA = 0.001\n",
        "DROPOUT = 0.1\n",
        "ACTIVATION = \"relu\"\n",
        "NUM_DENSE_LAYERS = 8\n",
        "\n",
        "IMG_SHAPE = (IMG_HEIGHT, IMG_WIDTH, 3)\n",
        "\n",
        "base_model = MobileNetV2(input_shape = IMG_SHAPE, include_top=False, weights='imagenet', alpha=1.4, pooling='avg')\n",
        "base_model.trainable = False\n",
        "\n",
        "model = Sequential()\n",
        "model.add(base_model)\n",
        "model.add(Dropout(DROPOUT))\n",
        "for x in range(NUM_DENSE_LAYERS):\n",
        "    model.add(Dense(NEURONS_PER_LAYER, kernel_regularizer=regularizers.l2(REG_LAMBDA), activation=ACTIVATION))\n",
        "    model.add(Dropout(DROPOUT))\n",
        "model.add(Dense(1, activation=\"sigmoid\"))\n",
        "\n",
        "LEARNING_RATE = 0.0005\n",
        "\n",
        "def compileModel(learningRate):\n",
        "    global model\n",
        "    model.compile(\n",
        "        optimizer=Adam(learning_rate=learningRate),\n",
        "        loss=BinaryCrossentropy(from_logits=True),\n",
        "        metrics=METRICS)\n",
        "\n",
        "compileModel(LEARNING_RATE)\n",
        "model.summary()"
      ],
      "execution_count": null,
      "outputs": []
    },
    {
      "cell_type": "markdown",
      "metadata": {
        "id": "P4lfi_UpPcDj",
        "colab_type": "text"
      },
      "source": [
        "Load model weights and last epoch"
      ]
    },
    {
      "cell_type": "code",
      "metadata": {
        "id": "_wVuJBRAEGbh",
        "colab_type": "code",
        "colab": {}
      },
      "source": [
        "# Get last epoch number from pickled file\n",
        "\n",
        "MODEL_FILEPATH = f\"/content/gdrive/My Drive/MelanomaDetectionModels/{NEURONS_PER_LAYER}_{NUM_DENSE_LAYERS}/\"\n",
        "EPOCH_FILEPATH = MODEL_FILEPATH + \"epochnum.pkl\"\n",
        "\n",
        "def loadWeights():\n",
        "    global epoch, model, EPOCH_FILEPATH, MODEL_FILEPATH\n",
        "    try: \n",
        "        infile = open(EPOCH_FILEPATH, 'rb')\n",
        "        infile.seek(0)\n",
        "        epoch = pickle.load(infile)\n",
        "        try:\n",
        "            model.load_weights(MODEL_FILEPATH + f\"epoch{epoch}.h5\")\n",
        "            infile.close()\n",
        "        except:\n",
        "            pass\n",
        "    except: \n",
        "        # Otherwise start again (only happens if no epoch number found)\n",
        "        epoch = 0\n",
        "    print(epoch)\n",
        "\n",
        "loadWeights()"
      ],
      "execution_count": null,
      "outputs": []
    },
    {
      "cell_type": "markdown",
      "metadata": {
        "id": "ZIC8UGzFk7AJ",
        "colab_type": "text"
      },
      "source": [
        "Prepare CSV logger"
      ]
    },
    {
      "cell_type": "code",
      "metadata": {
        "id": "dLyBNCPteyrK",
        "colab_type": "code",
        "colab": {}
      },
      "source": [
        "# File where we store our CSV history\n",
        "\n",
        "HISTORY_FILEPATH = MODEL_FILEPATH + \"history.csv\"\n",
        "\n",
        "csv_logger = CSVLogger(HISTORY_FILEPATH, append=True)"
      ],
      "execution_count": null,
      "outputs": []
    },
    {
      "cell_type": "markdown",
      "metadata": {
        "id": "Ftn4Tb_LM2d1",
        "colab_type": "text"
      },
      "source": [
        "Train model"
      ]
    },
    {
      "cell_type": "code",
      "metadata": {
        "id": "V1bTVD9HNsvj",
        "colab_type": "code",
        "colab": {}
      },
      "source": [
        "# Train for 150 epochs\n",
        "\n",
        "epochsToTrain = 150\n",
        "\n",
        "if epoch < epochsToTrain:\n",
        "    for i in range(epoch, epochsToTrain):\n",
        "        history = model.fit(x=train_data_gen, \n",
        "                            epochs=i+1, \n",
        "                            initial_epoch=i, \n",
        "                            verbose=1, \n",
        "                            validation_data=val_data_gen, \n",
        "                            validation_steps=VALID_LEN // batch_size, \n",
        "                            steps_per_epoch=TRAIN_LEN // batch_size, \n",
        "                            class_weight=class_weight,\n",
        "                            callbacks = [csv_logger])\n",
        "        model.save_weights(MODEL_FILEPATH + f\"epoch{i + 1}.h5\")\n",
        "        outfile = open(EPOCH_FILEPATH, 'wb')\n",
        "        pickle.dump(i+1, outfile)\n",
        "        outfile.close()"
      ],
      "execution_count": null,
      "outputs": []
    },
    {
      "cell_type": "markdown",
      "metadata": {
        "id": "J-bRTiM3aPyw",
        "colab_type": "text"
      },
      "source": [
        "Set up fine-tuning by unfreezing layers in base model"
      ]
    },
    {
      "cell_type": "code",
      "metadata": {
        "id": "X0i-J1EWXGSi",
        "colab_type": "code",
        "colab": {}
      },
      "source": [
        "base_model.trainable = True\n",
        "\n",
        "compileModel(LEARNING_RATE/10)\n",
        "model.summary()"
      ],
      "execution_count": null,
      "outputs": []
    },
    {
      "cell_type": "markdown",
      "metadata": {
        "id": "AufbOahlaWdC",
        "colab_type": "text"
      },
      "source": [
        "Load up fine tuning epoch number"
      ]
    },
    {
      "cell_type": "markdown",
      "metadata": {
        "id": "1Bn4NnGwaa-N",
        "colab_type": "text"
      },
      "source": [
        "Fine-tune"
      ]
    },
    {
      "cell_type": "code",
      "metadata": {
        "id": "gCgtEQ9JdVtz",
        "colab_type": "code",
        "colab": {}
      },
      "source": [
        "fineTuneEpochsToTrain = epochsToTrain + 300\n",
        "\n",
        "if epoch > epochsToTrain:\n",
        "    loadWeights()"
      ],
      "execution_count": null,
      "outputs": []
    },
    {
      "cell_type": "code",
      "metadata": {
        "id": "roh_F7YxZLf3",
        "colab_type": "code",
        "colab": {}
      },
      "source": [
        "if epoch < fineTuneEpochsToTrain:\n",
        "    for i in range(epoch, fineTuneEpochsToTrain):\n",
        "        history = model.fit(x=train_data_gen, \n",
        "                            epochs=i+1, \n",
        "                            initial_epoch=i, \n",
        "                            verbose=1, \n",
        "                            validation_data=val_data_gen, \n",
        "                            validation_steps=VALID_LEN // batch_size, \n",
        "                            steps_per_epoch=TRAIN_LEN // batch_size, \n",
        "                            class_weight=class_weight,\n",
        "                            callbacks = [csv_logger])\n",
        "        model.save_weights(MODEL_FILEPATH + f\"epoch{i + 1}.h5\")\n",
        "        outfile = open(EPOCH_FILEPATH, 'wb')\n",
        "        pickle.dump(i+1, outfile)\n",
        "        outfile.close()\n"
      ],
      "execution_count": null,
      "outputs": []
    }
  ]
}