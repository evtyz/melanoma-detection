{
  "nbformat": 4,
  "nbformat_minor": 0,
  "metadata": {
    "colab": {
      "name": "train.ipynb",
      "provenance": [],
      "collapsed_sections": [],
      "toc_visible": true,
      "authorship_tag": "ABX9TyOs1K/TMOzt9QEZoj2lXapx",
      "include_colab_link": true
    },
    "kernelspec": {
      "name": "python3",
      "display_name": "Python 3"
    },
    "accelerator": "GPU"
  },
  "cells": [
    {
      "cell_type": "markdown",
      "metadata": {
        "id": "view-in-github",
        "colab_type": "text"
      },
      "source": [
        "<a href=\"https://colab.research.google.com/github/richmondvan/melanoma-detection/blob/master/train.ipynb\" target=\"_parent\"><img src=\"https://colab.research.google.com/assets/colab-badge.svg\" alt=\"Open In Colab\"/></a>"
      ]
    },
    {
      "cell_type": "markdown",
      "metadata": {
        "id": "3GBnQEFeOgSK",
        "colab_type": "text"
      },
      "source": [
        "# Training"
      ]
    },
    {
      "cell_type": "markdown",
      "metadata": {
        "id": "oZUfw13gOyhU",
        "colab_type": "text"
      },
      "source": [
        "Import all modules and mount Google Drive"
      ]
    },
    {
      "cell_type": "code",
      "metadata": {
        "id": "7kAzzn_kNT3v",
        "colab_type": "code",
        "outputId": "6f6a920d-b4a0-4ece-df34-598ef71a3a40",
        "colab": {
          "base_uri": "https://localhost:8080/",
          "height": 34
        }
      },
      "source": [
        "# Must be run every time!\n",
        "\n",
        "import pathlib # Manage file paths\n",
        "import math # Manage basic math\n",
        "import pickle # Storing epoch number\n",
        "import csv # Storing data in .csv files\n",
        "from google.colab import drive # For mounting GDrive\n",
        "import tensorflow_hub as hub # For importing EfficientNet\n",
        "\n",
        "import tensorflow as tf #nightly\n",
        "from tensorflow.keras import models, layers, losses, metrics\n",
        "from tensorflow.keras.models import Sequential\n",
        "from tensorflow.keras.layers import Dense, Conv2D, Flatten, Dropout, MaxPooling2D\n",
        "from tensorflow.keras.preprocessing.image import ImageDataGenerator\n",
        "from tensorflow.keras.callbacks import CSVLogger\n",
        "\n",
        "# Mount Google Drive\n",
        "drive.mount('/content/gdrive') "
      ],
      "execution_count": 3,
      "outputs": [
        {
          "output_type": "stream",
          "text": [
            "Drive already mounted at /content/gdrive; to attempt to forcibly remount, call drive.mount(\"/content/gdrive\", force_remount=True).\n"
          ],
          "name": "stdout"
        }
      ]
    },
    {
      "cell_type": "markdown",
      "metadata": {
        "id": "NzfDku_bO18a",
        "colab_type": "text"
      },
      "source": [
        "Prepare datasets"
      ]
    },
    {
      "cell_type": "code",
      "metadata": {
        "id": "kKqBjcCuNjMG",
        "colab_type": "code",
        "outputId": "78994329-aa95-4f3e-fbb4-9c3d8fb188bc",
        "colab": {
          "base_uri": "https://localhost:8080/",
          "height": 51
        }
      },
      "source": [
        "# Setting up file paths\n",
        "PATH = \"/content/gdrive/My Drive/Dataset/DatasetSorted/\"\n",
        "\n",
        "TRAINING_PATH = pathlib.Path(PATH + \"training/\")\n",
        "VALIDATION_PATH = pathlib.Path(PATH + \"validation/\")\n",
        "TEST_PATH = pathlib.Path(PATH + \"test/\")\n",
        "\n",
        "# Create image generators\n",
        "train_image_generator = ImageDataGenerator(\n",
        "    rescale=1./255,\n",
        "    brightness_range=(0.95, 1.05),\n",
        "    horizontal_flip=True,\n",
        "    vertical_flip=True) # Generator for our training data\n",
        "validation_image_generator = ImageDataGenerator(rescale=1./255,\n",
        "    horizontal_flip=True,\n",
        "    vertical_flip=True) # Generator for our validation data\n",
        "\n",
        "# Some constants\n",
        "batch_size = 32\n",
        "epochs = 15\n",
        "IMG_HEIGHT = 600\n",
        "IMG_WIDTH = 600\n",
        "TRAIN_LEN = len(list(TRAINING_PATH.glob(\"*/*.jpg\")))\n",
        "VALID_LEN = len(list(VALIDATION_PATH.glob(\"*/*.jpg\")))\n",
        "CLASS_NAMES = ['benign', 'malignant']\n",
        "\n",
        "# Get generated datasets\n",
        "train_data_gen = train_image_generator.flow_from_directory(batch_size=batch_size,\n",
        "                                                           directory=TRAINING_PATH,\n",
        "                                                           shuffle=True,\n",
        "                                                           target_size=(IMG_HEIGHT, IMG_WIDTH),\n",
        "                                                           class_mode='binary',\n",
        "                                                           classes=CLASS_NAMES)\n",
        "\n",
        "val_data_gen = validation_image_generator.flow_from_directory(batch_size=batch_size,\n",
        "                                                              directory=VALIDATION_PATH,\n",
        "                                                              shuffle=True,\n",
        "                                                              target_size=(IMG_HEIGHT, IMG_WIDTH),\n",
        "                                                              class_mode='binary',\n",
        "                                                              classes=CLASS_NAMES)"
      ],
      "execution_count": 4,
      "outputs": [
        {
          "output_type": "stream",
          "text": [
            "Found 8423 images belonging to 2 classes.\n",
            "Found 1054 images belonging to 2 classes.\n"
          ],
          "name": "stdout"
        }
      ]
    },
    {
      "cell_type": "markdown",
      "metadata": {
        "id": "U--YerHEO7gD",
        "colab_type": "text"
      },
      "source": [
        "Prepare metrics and weights"
      ]
    },
    {
      "cell_type": "code",
      "metadata": {
        "id": "X9iRPtTtNmHu",
        "colab_type": "code",
        "colab": {}
      },
      "source": [
        "# Get some training weights to offset class imbalance\n",
        "numBenign = len(list(TRAINING_PATH.glob(\"benign/*.jpg\")))\n",
        "numMalignant = len(list(TRAINING_PATH.glob(\"malignant/*.jpg\")))\n",
        "total = numBenign + numMalignant\n",
        "weight_for_0 = (1 / numBenign)*(total)/2.0 \n",
        "weight_for_1 = (1.5 / numMalignant)*(total)/2.0\n",
        "class_weight = {0: weight_for_0, 1: weight_for_1}\n",
        "\n",
        "# Metrics we will be using to assess accuracy\n",
        "METRICS = [\n",
        "      metrics.TruePositives(name='tp'),\n",
        "      metrics.FalsePositives(name='fp'),\n",
        "      metrics.TrueNegatives(name='tn'),\n",
        "      metrics.FalseNegatives(name='fn'), \n",
        "      metrics.BinaryAccuracy(name='accuracy'),\n",
        "      metrics.Precision(name='precision'),\n",
        "      metrics.Recall(name='recall'),\n",
        "      metrics.AUC(name='auc'),\n",
        "]"
      ],
      "execution_count": 0,
      "outputs": []
    },
    {
      "cell_type": "markdown",
      "metadata": {
        "id": "VnmZ-5AzPZxU",
        "colab_type": "text"
      },
      "source": [
        "Prepare model"
      ]
    },
    {
      "cell_type": "code",
      "metadata": {
        "id": "hFVGzhJeNrat",
        "colab_type": "code",
        "outputId": "a403fbd9-0f0f-4cea-f0e2-63179e69d4ae",
        "colab": {
          "base_uri": "https://localhost:8080/",
          "height": 649
        }
      },
      "source": [
        "# Hyperparameters\n",
        "NEURONS_PER_LAYER = 1024\n",
        "REG_LAMBDA = 0.001\n",
        "DROPOUT = 0.1\n",
        "ACTIVATION = \"relu\"\n",
        "\n",
        "# Build model\n",
        "model = models.Sequential([\n",
        "    hub.KerasLayer(\"https://tfhub.dev/google/efficientnet/b7/feature-vector/1\", trainable=False),\n",
        "    layers.Dropout(DROPOUT),\n",
        "    layers.Dense(NEURONS_PER_LAYER, kernel_regularizer=tf.keras.regularizers.l2(REG_LAMBDA), activation=ACTIVATION),\n",
        "    layers.Dropout(DROPOUT),\n",
        "    layers.Dense(NEURONS_PER_LAYER, kernel_regularizer=tf.keras.regularizers.l2(REG_LAMBDA), activation=ACTIVATION),\n",
        "    layers.Dropout(DROPOUT),\n",
        "    layers.Dense(NEURONS_PER_LAYER, kernel_regularizer=tf.keras.regularizers.l2(REG_LAMBDA), activation=ACTIVATION),\n",
        "    layers.Dropout(DROPOUT),\n",
        "    layers.Dense(NEURONS_PER_LAYER, kernel_regularizer=tf.keras.regularizers.l2(REG_LAMBDA), activation=ACTIVATION),\n",
        "    layers.Dropout(DROPOUT),\n",
        "    layers.Dense(1, activation=\"sigmoid\")\n",
        "])\n",
        "\n",
        "model.compile(\n",
        "    optimizer=tf.keras.optimizers.Adam(learning_rate=0.001),\n",
        "    loss=tf.keras.losses.BinaryCrossentropy(from_logits=True),\n",
        "    metrics=METRICS)\n",
        "\n",
        "model.build([None, IMG_HEIGHT, IMG_WIDTH, 3])\n",
        "model.summary()\n",
        "\n"
      ],
      "execution_count": 6,
      "outputs": [
        {
          "output_type": "stream",
          "text": [
            "WARNING:tensorflow:From /usr/local/lib/python3.6/dist-packages/tensorflow/python/ops/resource_variable_ops.py:1817: calling BaseResourceVariable.__init__ (from tensorflow.python.ops.resource_variable_ops) with constraint is deprecated and will be removed in a future version.\n",
            "Instructions for updating:\n",
            "If using Keras pass *_constraint arguments to layers.\n"
          ],
          "name": "stdout"
        },
        {
          "output_type": "stream",
          "text": [
            "WARNING:tensorflow:From /usr/local/lib/python3.6/dist-packages/tensorflow/python/ops/resource_variable_ops.py:1817: calling BaseResourceVariable.__init__ (from tensorflow.python.ops.resource_variable_ops) with constraint is deprecated and will be removed in a future version.\n",
            "Instructions for updating:\n",
            "If using Keras pass *_constraint arguments to layers.\n"
          ],
          "name": "stderr"
        },
        {
          "output_type": "stream",
          "text": [
            "Model: \"sequential\"\n",
            "_________________________________________________________________\n",
            "Layer (type)                 Output Shape              Param #   \n",
            "=================================================================\n",
            "keras_layer (KerasLayer)     multiple                  64097680  \n",
            "_________________________________________________________________\n",
            "dropout (Dropout)            multiple                  0         \n",
            "_________________________________________________________________\n",
            "dense (Dense)                multiple                  2622464   \n",
            "_________________________________________________________________\n",
            "dropout_1 (Dropout)          multiple                  0         \n",
            "_________________________________________________________________\n",
            "dense_1 (Dense)              multiple                  1049600   \n",
            "_________________________________________________________________\n",
            "dropout_2 (Dropout)          multiple                  0         \n",
            "_________________________________________________________________\n",
            "dense_2 (Dense)              multiple                  1049600   \n",
            "_________________________________________________________________\n",
            "dropout_3 (Dropout)          multiple                  0         \n",
            "_________________________________________________________________\n",
            "dense_3 (Dense)              multiple                  1049600   \n",
            "_________________________________________________________________\n",
            "dropout_4 (Dropout)          multiple                  0         \n",
            "_________________________________________________________________\n",
            "dense_4 (Dense)              multiple                  1025      \n",
            "=================================================================\n",
            "Total params: 69,869,969\n",
            "Trainable params: 5,772,289\n",
            "Non-trainable params: 64,097,680\n",
            "_________________________________________________________________\n"
          ],
          "name": "stdout"
        }
      ]
    },
    {
      "cell_type": "markdown",
      "metadata": {
        "id": "P4lfi_UpPcDj",
        "colab_type": "text"
      },
      "source": [
        "Load model weights and last epoch"
      ]
    },
    {
      "cell_type": "code",
      "metadata": {
        "id": "_wVuJBRAEGbh",
        "colab_type": "code",
        "colab": {
          "base_uri": "https://localhost:8080/",
          "height": 51
        },
        "outputId": "3e965d83-fad5-438c-96ce-d191f661fd99"
      },
      "source": [
        "# Get last epoch number from pickled file\n",
        "\n",
        "EPOCH_FILEPATH = f\"/content/gdrive/My Drive/Dataset/enet{NEURONS_PER_LAYER}_4_epochnum\"\n",
        "\n",
        "infile = open(EPOCH_FILEPATH, 'rb')\n",
        "try: \n",
        "    infile.seek(0)\n",
        "    epoch = pickle.load(infile)\n",
        "    model.load_weights(f\"/content/gdrive/My Drive/Dataset/enet{NEURONS_PER_LAYER}_4/epoch{epoch}.h5\")\n",
        "except: \n",
        "    # Otherwise start again (only happens if no epoch number found)\n",
        "    epoch = 0\n",
        "\n",
        "\n",
        "print(epoch)\n",
        "infile.close()"
      ],
      "execution_count": 13,
      "outputs": [
        {
          "output_type": "stream",
          "text": [
            "/content/gdrive/My Drive/Dataset/enet1024_4_epochnum\n",
            "16\n"
          ],
          "name": "stdout"
        }
      ]
    },
    {
      "cell_type": "markdown",
      "metadata": {
        "id": "ZIC8UGzFk7AJ",
        "colab_type": "text"
      },
      "source": [
        "Prepare CSV logger"
      ]
    },
    {
      "cell_type": "code",
      "metadata": {
        "id": "dLyBNCPteyrK",
        "colab_type": "code",
        "colab": {}
      },
      "source": [
        "# File where we store our CSV history\n",
        "\n",
        "HISTORY_FILE = f'/content/gdrive/My Drive/Dataset/enet{NEURONS_PER_LAYER}_stats.csv'\n",
        "\n",
        "csv_logger = CSVLogger(HISTORY_FILE, append=True)"
      ],
      "execution_count": 0,
      "outputs": []
    },
    {
      "cell_type": "markdown",
      "metadata": {
        "id": "Ftn4Tb_LM2d1",
        "colab_type": "text"
      },
      "source": [
        "Train model"
      ]
    },
    {
      "cell_type": "code",
      "metadata": {
        "id": "V1bTVD9HNsvj",
        "colab_type": "code",
        "outputId": "3410acd5-9ad8-4de3-c1b4-aa9eb5cb9c3d",
        "colab": {
          "base_uri": "https://localhost:8080/",
          "height": 71
        }
      },
      "source": [
        "# Train for 150 epochs\n",
        "\n",
        "if epoch < 150:\n",
        "    for i in range(epoch, 150):\n",
        "        history = model.fit(x=train_data_gen, \n",
        "                            epochs=i+1, \n",
        "                            initial_epoch=i, \n",
        "                            verbose=1, \n",
        "                            validation_data=val_data_gen, \n",
        "                            validation_steps=VALID_LEN // batch_size, \n",
        "                            steps_per_epoch=TRAIN_LEN // batch_size, \n",
        "                            class_weight=class_weight,\n",
        "                            callbacks = [csv_logger])\n",
        "        model.save_weights(f\"/content/gdrive/My Drive/Dataset/enet{NEURONS_PER_LAYER}_4/epoch{i + 1}.h5\")\n",
        "        outfile = open(EPOCH_FILEPATH, 'wb')\n",
        "        pickle.dump(i+1, outfile)\n",
        "        outfile.close()\n",
        "\n",
        "    \n",
        "    epoch = 150"
      ],
      "execution_count": 0,
      "outputs": [
        {
          "output_type": "stream",
          "text": [
            "Epoch 17/17\n",
            " 42/263 [===>..........................] - ETA: 36:57 - loss: 0.7227 - tp: 132.0000 - fp: 211.0000 - tn: 942.0000 - fn: 59.0000 - accuracy: 0.7991 - precision: 0.3848 - recall: 0.6911 - auc: 0.8134"
          ],
          "name": "stdout"
        }
      ]
    },
    {
      "cell_type": "markdown",
      "metadata": {
        "id": "RZ1roKaSNU1L",
        "colab_type": "text"
      },
      "source": [
        "Fine-tuning with trainable EfficientNet"
      ]
    },
    {
      "cell_type": "code",
      "metadata": {
        "id": "rXPkaFXYEctT",
        "colab_type": "code",
        "colab": {}
      },
      "source": [
        "# Build model again\n",
        "\n",
        "model = models.Sequential([\n",
        "    hub.KerasLayer(\"https://tfhub.dev/google/efficientnet/b7/feature-vector/1\", trainable=True), # Trainable this time\n",
        "    layers.Dropout(DROPOUT),\n",
        "    layers.Dense(NEURONS_PER_LAYER, kernel_regularizer=tf.keras.regularizers.l2(REG_LAMBDA), activation=ACTIVATION),\n",
        "    layers.Dropout(DROPOUT),\n",
        "    layers.Dense(NEURONS_PER_LAYER, kernel_regularizer=tf.keras.regularizers.l2(REG_LAMBDA), activation=ACTIVATION),\n",
        "    layers.Dropout(DROPOUT),\n",
        "    layers.Dense(NEURONS_PER_LAYER, kernel_regularizer=tf.keras.regularizers.l2(REG_LAMBDA), activation=ACTIVATION),\n",
        "    layers.Dropout(DROPOUT),\n",
        "    layers.Dense(NEURONS_PER_LAYER, kernel_regularizer=tf.keras.regularizers.l2(REG_LAMBDA), activation=ACTIVATION),\n",
        "    layers.Dropout(DROPOUT),\n",
        "    layers.Dense(1, activation=\"sigmoid\")\n",
        "])\n",
        "\n",
        "model.compile(\n",
        "    optimizer=tf.keras.optimizers.Adam(learning_rate=0.0001), # smaller learning rate\n",
        "    loss=tf.keras.losses.BinaryCrossentropy(from_logits=True),\n",
        "    metrics=METRICS)\n",
        "\n",
        "model.build([None, IMG_HEIGHT, IMG_WIDTH, 3])\n",
        "model.summary()\n",
        "\n",
        "model.load_weights(f\"/content/gdrive/My Drive/Dataset/enet{NEURONS_PER_LAYER}_4/epoch{epoch}.h5\")"
      ],
      "execution_count": 0,
      "outputs": []
    },
    {
      "cell_type": "markdown",
      "metadata": {
        "id": "gKCTvoLcNYuT",
        "colab_type": "text"
      },
      "source": [
        "Train again"
      ]
    },
    {
      "cell_type": "code",
      "metadata": {
        "id": "and616TGNJAq",
        "colab_type": "code",
        "colab": {}
      },
      "source": [
        "# Train for 50 more epochs\n",
        "\n",
        "if epoch < 200:\n",
        "    for i in range(epoch, 200):\n",
        "        history = model.fit(x=train_data_gen, \n",
        "                            epochs=i+1, \n",
        "                            initial_epoch=i, \n",
        "                            verbose=1, \n",
        "                            validation_data=val_data_gen, \n",
        "                            validation_steps=VALID_LEN // batch_size, \n",
        "                            steps_per_epoch=TRAIN_LEN // batch_size, \n",
        "                            class_weight=class_weight,\n",
        "                            callbacks = [csv_logger])\n",
        "        model.save_weights(f\"/content/gdrive/My Drive/Dataset/enet{NEURONS_PER_LAYER}_4/epoch{i + 1}.h5\")\n",
        "        outfile = open(EPOCH_FILEPATH, 'wb')\n",
        "        pickle.dump(i+1, outfile)\n",
        "        outfile.close()"
      ],
      "execution_count": 0,
      "outputs": []
    }
  ]
}