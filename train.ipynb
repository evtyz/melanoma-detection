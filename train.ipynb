{
  "nbformat": 4,
  "nbformat_minor": 0,
  "metadata": {
    "colab": {
      "name": "train.ipynb",
      "provenance": [],
      "private_outputs": true,
      "authorship_tag": "ABX9TyNBEYPZcwRcl/Bz8+q8A0WK",
      "include_colab_link": true
    },
    "kernelspec": {
      "name": "python3",
      "display_name": "Python 3"
    }
  },
  "cells": [
    {
      "cell_type": "markdown",
      "metadata": {
        "id": "view-in-github",
        "colab_type": "text"
      },
      "source": [
        "<a href=\"https://colab.research.google.com/github/richmondvan/melanoma-detection/blob/master/train.ipynb\" target=\"_parent\"><img src=\"https://colab.research.google.com/assets/colab-badge.svg\" alt=\"Open In Colab\"/></a>"
      ]
    },
    {
      "cell_type": "markdown",
      "metadata": {
        "id": "3GBnQEFeOgSK",
        "colab_type": "text"
      },
      "source": [
        "# Training"
      ]
    },
    {
      "cell_type": "markdown",
      "metadata": {
        "id": "oZUfw13gOyhU",
        "colab_type": "text"
      },
      "source": [
        "Import all modules and mount Google Drive"
      ]
    },
    {
      "cell_type": "code",
      "metadata": {
        "id": "7kAzzn_kNT3v",
        "colab_type": "code",
        "colab": {}
      },
      "source": [
        "# Must be run every time!\n",
        "import numpy as np\n",
        "import tensorflow as tf #nightly\n",
        "import pathlib\n",
        "from tensorflow.keras import models, layers, losses, metrics\n",
        "import math\n",
        "from google.colab import drive \n",
        "import os\n",
        "from tensorflow.keras.models import Sequential\n",
        "from tensorflow.keras.layers import Dense, Conv2D, Flatten, Dropout, MaxPooling2D\n",
        "from tensorflow.keras.preprocessing.image import ImageDataGenerator\n",
        "import tensorflow_hub as hub\n",
        "\n",
        "drive.mount('/content/gdrive') "
      ],
      "execution_count": 0,
      "outputs": []
    },
    {
      "cell_type": "markdown",
      "metadata": {
        "id": "NzfDku_bO18a",
        "colab_type": "text"
      },
      "source": [
        "Prepare datasets"
      ]
    },
    {
      "cell_type": "code",
      "metadata": {
        "id": "kKqBjcCuNjMG",
        "colab_type": "code",
        "colab": {}
      },
      "source": [
        "BENIGN_PATH = \"/content/gdrive/My Drive/Dataset/DatasetSorted/benign/\"\n",
        "MALIGNANT_PATH = \"/content/gdrive/My Drive/Dataset/DatasetSorted/malignant/\"\n",
        "\n",
        "TRAINING_PATH = pathlib.Path(\"/content/gdrive/My Drive/Dataset/DatasetSorted/training/\")\n",
        "VALIDATION_PATH = pathlib.Path(\"/content/gdrive/My Drive/Dataset/DatasetSorted/validation/\")\n",
        "TEST_PATH = pathlib.Path(\"/content/gdrive/My Drive/Dataset/DatasetSorted/test/\")\n",
        "\n",
        "train_image_generator = ImageDataGenerator(\n",
        "    rescale=1./255,\n",
        "    brightness_range=(0.95, 1.05),\n",
        "    horizontal_flip=True,\n",
        "    vertical_flip=True) # Generator for our training data\n",
        "validation_image_generator = ImageDataGenerator(rescale=1./255,\n",
        "    horizontal_flip=True,\n",
        "    vertical_flip=True) # Generator for our validation data\n",
        "\n",
        "batch_size = 32\n",
        "epochs = 15\n",
        "IMG_HEIGHT = 600\n",
        "IMG_WIDTH = 600\n",
        "\n",
        "TRAIN_LEN = len(list(TRAINING_PATH.glob(\"*/*.jpg\")))\n",
        "VALID_LEN = len(list(VALIDATION_PATH.glob(\"*/*.jpg\")))\n",
        "\n",
        "print(TRAIN_LEN)\n",
        "print(VALID_LEN)\n",
        "\n",
        "CLASS_NAMES = ['benign', 'malignant']\n",
        "\n",
        "train_data_gen = train_image_generator.flow_from_directory(batch_size=batch_size,\n",
        "                                                           directory=TRAINING_PATH,\n",
        "                                                           shuffle=True,\n",
        "                                                           target_size=(IMG_HEIGHT, IMG_WIDTH),\n",
        "                                                           class_mode='binary',\n",
        "                                                           classes=CLASS_NAMES)\n",
        "\n",
        "val_data_gen = validation_image_generator.flow_from_directory(batch_size=batch_size,\n",
        "                                                              directory=VALIDATION_PATH,\n",
        "                                                              shuffle=True,\n",
        "                                                              target_size=(IMG_HEIGHT, IMG_WIDTH),\n",
        "                                                              class_mode='binary',\n",
        "                                                              classes=CLASS_NAMES)"
      ],
      "execution_count": 0,
      "outputs": []
    },
    {
      "cell_type": "markdown",
      "metadata": {
        "id": "U--YerHEO7gD",
        "colab_type": "text"
      },
      "source": [
        "Prepare metrics and weights"
      ]
    },
    {
      "cell_type": "code",
      "metadata": {
        "id": "X9iRPtTtNmHu",
        "colab_type": "code",
        "colab": {}
      },
      "source": [
        "numBenign = len(list(TRAINING_PATH.glob(\"benign/*.jpg\")))\n",
        "numMalignant = len(list(TRAINING_PATH.glob(\"malignant/*.jpg\")))\n",
        "total = numBenign + numMalignant\n",
        "weight_for_0 = (1 / numBenign)*(total)/2.0 \n",
        "weight_for_1 = (1 / numMalignant)*(total)/2.0\n",
        "\n",
        "class_weight = {0: weight_for_0, 1: weight_for_1}\n",
        "print(class_weight)\n",
        "\n",
        "\n",
        "METRICS = [\n",
        "      metrics.TruePositives(name='tp'),\n",
        "      metrics.FalsePositives(name='fp'),\n",
        "      metrics.TrueNegatives(name='tn'),\n",
        "      metrics.FalseNegatives(name='fn'), \n",
        "      metrics.BinaryAccuracy(name='accuracy'),\n",
        "      metrics.Precision(name='precision'),\n",
        "      metrics.Recall(name='recall'),\n",
        "      metrics.AUC(name='auc'),\n",
        "]"
      ],
      "execution_count": 0,
      "outputs": []
    },
    {
      "cell_type": "markdown",
      "metadata": {
        "id": "VnmZ-5AzPZxU",
        "colab_type": "text"
      },
      "source": [
        "Prepare model"
      ]
    },
    {
      "cell_type": "code",
      "metadata": {
        "id": "hFVGzhJeNrat",
        "colab_type": "code",
        "colab": {}
      },
      "source": [
        "checkpoint_path = \"/content/gdrive/My Drive/Dataset/enet1024_4.ckpt\"\n",
        "\n",
        "cp_callback = tf.keras.callbacks.ModelCheckpoint(filepath=checkpoint_path,\n",
        "                                                 save_weights_only=True,\n",
        "                                                 verbose=1)\n",
        "\n",
        "model = models.Sequential([\n",
        "    hub.KerasLayer(\"https://tfhub.dev/google/efficientnet/b7/feature-vector/1\", trainable=False),\n",
        "    layers.Dropout(0.1),\n",
        "    layers.Dense(1024, kernel_regularizer=tf.keras.regularizers.l2(0.001), activation=\"relu\"),\n",
        "    layers.Dropout(0.1),\n",
        "    layers.Dense(1024, kernel_regularizer=tf.keras.regularizers.l2(0.001), activation=\"relu\"),\n",
        "    layers.Dropout(0.1),\n",
        "    layers.Dense(1024, kernel_regularizer=tf.keras.regularizers.l2(0.001), activation=\"relu\"),\n",
        "    layers.Dropout(0.1),\n",
        "    layers.Dense(1024, kernel_regularizer=tf.keras.regularizers.l2(0.001), activation=\"relu\"),\n",
        "    layers.Dropout(0.1),\n",
        "    layers.Dense(1, activation=\"sigmoid\")\n",
        "])\n",
        "\n",
        "model.compile(\n",
        "    optimizer=tf.keras.optimizers.Adam(learning_rate=0.001),\n",
        "    loss=tf.keras.losses.BinaryCrossentropy(from_logits=True),\n",
        "    metrics=METRICS)\n",
        "\n",
        "model.build([None, 600, 600, 3])\n",
        "model.summary()\n"
      ],
      "execution_count": 0,
      "outputs": []
    },
    {
      "cell_type": "markdown",
      "metadata": {
        "id": "P4lfi_UpPcDj",
        "colab_type": "text"
      },
      "source": [
        "Train model"
      ]
    },
    {
      "cell_type": "code",
      "metadata": {
        "id": "V1bTVD9HNsvj",
        "colab_type": "code",
        "colab": {}
      },
      "source": [
        "history = model.fit(x=train_data_gen, epochs=5, initial_epoch=0, verbose=1, validation_data=val_data_gen, validation_steps=VALID_LEN // batch_size, steps_per_epoch=TRAIN_LEN // batch_size, class_weight=class_weight)"
      ],
      "execution_count": 0,
      "outputs": []
    }
  ]
}